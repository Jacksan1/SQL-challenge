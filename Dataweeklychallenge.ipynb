{
  "nbformat": 4,
  "nbformat_minor": 0,
  "metadata": {
    "colab": {
      "provenance": []
    },
    "kernelspec": {
      "name": "python3",
      "display_name": "Python 3"
    },
    "language_info": {
      "name": "python"
    }
  },
  "cells": [
    {
      "cell_type": "code",
      "execution_count": 1,
      "metadata": {
        "colab": {
          "base_uri": "https://localhost:8080/"
        },
        "id": "5ExIPkimhqn1",
        "outputId": "ffb3da73-ce0f-4a7f-c6e9-f4ee6c969827"
      },
      "outputs": [
        {
          "output_type": "stream",
          "name": "stdout",
          "text": [
            "Collecting pymysql\n",
            "  Downloading PyMySQL-1.1.0-py3-none-any.whl (44 kB)\n",
            "\u001b[?25l     \u001b[90m━━━━━━━━━━━━━━━━━━━━━━━━━━━━━━━━━━━━━━━━\u001b[0m \u001b[32m0.0/44.8 kB\u001b[0m \u001b[31m?\u001b[0m eta \u001b[36m-:--:--\u001b[0m\r\u001b[2K     \u001b[90m━━━━━━━━━━━━━━━━━━━━━━━━━━━━━━━━━━━━━━━━\u001b[0m \u001b[32m44.8/44.8 kB\u001b[0m \u001b[31m2.1 MB/s\u001b[0m eta \u001b[36m0:00:00\u001b[0m\n",
            "\u001b[?25hInstalling collected packages: pymysql\n",
            "Successfully installed pymysql-1.1.0\n"
          ]
        }
      ],
      "source": [
        "!pip install pymysql"
      ]
    },
    {
      "cell_type": "code",
      "source": [
        "%load_ext sql"
      ],
      "metadata": {
        "id": "cVSewBZ3iLqd"
      },
      "execution_count": 2,
      "outputs": []
    },
    {
      "cell_type": "code",
      "source": [
        "%%sql sqlite:///trial.db"
      ],
      "metadata": {
        "id": "Oiyy5KYWjID4"
      },
      "execution_count": 3,
      "outputs": []
    },
    {
      "cell_type": "code",
      "source": [
        "%%sql CREATE TABLE Worker(\n",
        "    worker_ID INT NOT NULL PRIMARY KEY,\n",
        "    FIRST_NAME TEXT(25),\n",
        "    LAST_NAME TEXT(25),\n",
        "    SALARY INT(15),\n",
        "    JOINING_DATE DATETIME,\n",
        "    DEPARTMENT TEXT(25)\n",
        ");"
      ],
      "metadata": {
        "colab": {
          "base_uri": "https://localhost:8080/"
        },
        "id": "AHhz3mpQkq1-",
        "outputId": "9fdd42b5-ede7-4a08-c63c-c467055d9e3f"
      },
      "execution_count": 4,
      "outputs": [
        {
          "output_type": "stream",
          "name": "stdout",
          "text": [
            " * sqlite:///trial.db\n",
            "Done.\n"
          ]
        },
        {
          "output_type": "execute_result",
          "data": {
            "text/plain": [
              "[]"
            ]
          },
          "metadata": {},
          "execution_count": 4
        }
      ]
    },
    {
      "cell_type": "code",
      "source": [
        "%%sql CREATE TABLE Bonus(\n",
        "    Worker_REF_ID INT,\n",
        "    BONUS_AMOUNT INT(10),\n",
        "    BONUS_DATE DATETIME,\n",
        "    FOREIGN KEY (WORKER_REF_ID)\n",
        "     REFERENCES Worker(WORKER_ID)\n",
        "       ON DELETE CASCADE\n",
        ");\n"
      ],
      "metadata": {
        "colab": {
          "base_uri": "https://localhost:8080/"
        },
        "id": "i1XBJCFslR_n",
        "outputId": "221e7219-5058-4e64-9964-5dcce0414f83"
      },
      "execution_count": 6,
      "outputs": [
        {
          "output_type": "stream",
          "name": "stdout",
          "text": [
            " * sqlite:///trial.db\n",
            "Done.\n"
          ]
        },
        {
          "output_type": "execute_result",
          "data": {
            "text/plain": [
              "[]"
            ]
          },
          "metadata": {},
          "execution_count": 6
        }
      ]
    },
    {
      "cell_type": "code",
      "source": [
        "%%sql CREATE TABLE Title(\n",
        "   WORKER_REF_ID INT,\n",
        "   WORKER_TITLE CHAR(25),\n",
        "   AFFECTED_FROM DATETIME,\n",
        "    FOREIGN KEY (WORKER_REF_ID)\n",
        "     REFERENCES worker(WORKER_ID)\n",
        "      ON DELETE CASCADE\n",
        ");\n",
        ""
      ],
      "metadata": {
        "colab": {
          "base_uri": "https://localhost:8080/"
        },
        "id": "ZDCEYa_ny2t1",
        "outputId": "7b39e6b2-d64d-49d4-8691-59ad58a842f2"
      },
      "execution_count": 11,
      "outputs": [
        {
          "output_type": "stream",
          "name": "stdout",
          "text": [
            " * sqlite:///trial.db\n",
            "Done.\n"
          ]
        },
        {
          "output_type": "execute_result",
          "data": {
            "text/plain": [
              "[]"
            ]
          },
          "metadata": {},
          "execution_count": 11
        }
      ]
    },
    {
      "cell_type": "code",
      "source": [
        "%%sql INSERT INTO Worker\n",
        "(WORKER_ID, FIRST_NAME, LAST_NAME, SALARY, JOINING_DATE, DEPARTMENT) VALUES\n",
        "  (001, 'Jane', 'Nyamai', 100000, '12-02-24 09.00.00', 'HR'),\n",
        "  (002, 'Victor', 'Korat', 80000, '11-04-23 09.00.00', 'Account'),\n",
        "  (003, 'James', 'Tabuke', 300000, '13-05-20 09.00.00', 'Admin'),\n",
        "  (004, 'Amara', 'tahid', 500000, '14-02-20 09.00.00', 'HR'),\n",
        "  (005, 'John', 'Doe', 500000, '14-07-18 09.00.00', 'Admin'),\n",
        "  (006, 'Vipul', 'Diwan', 200000, '14-06-11 09.00.00', 'Account'),\n",
        "  (007, 'Satish', 'Kumar', 75000, '12-08-21 09.00.00', 'Account'),\n",
        "  (008, 'Vivek', 'Bhati', 90000, '14-09-15 09.00.00', 'Admin');"
      ],
      "metadata": {
        "colab": {
          "base_uri": "https://localhost:8080/"
        },
        "id": "shO659DAmj8k",
        "outputId": "6e2f2d19-6159-408c-a484-79551bb53bd9"
      },
      "execution_count": 7,
      "outputs": [
        {
          "output_type": "stream",
          "name": "stdout",
          "text": [
            " * sqlite:///trial.db\n",
            "8 rows affected.\n"
          ]
        },
        {
          "output_type": "execute_result",
          "data": {
            "text/plain": [
              "[]"
            ]
          },
          "metadata": {},
          "execution_count": 7
        }
      ]
    },
    {
      "cell_type": "code",
      "source": [
        "%%sql INSERT INTO Bonus\n",
        "  (WORKER_REF_ID, BONUS_AMOUNT, BONUS_DATE) VALUES\n",
        "  (001, 5000, '16-02-20'),\n",
        "  (002, 3000, '16=06-11'),\n",
        "  (003, 4000, '16-02-16'),\n",
        "  (004, 4500, '16-02-20'),\n",
        "  (005, 3500, '16-07-23');"
      ],
      "metadata": {
        "colab": {
          "base_uri": "https://localhost:8080/"
        },
        "id": "hFlZ-aWYm0mP",
        "outputId": "3e60b12e-4e52-417a-b611-5d9b3dbe7408"
      },
      "execution_count": 8,
      "outputs": [
        {
          "output_type": "stream",
          "name": "stdout",
          "text": [
            " * sqlite:///trial.db\n",
            "5 rows affected.\n"
          ]
        },
        {
          "output_type": "execute_result",
          "data": {
            "text/plain": [
              "[]"
            ]
          },
          "metadata": {},
          "execution_count": 8
        }
      ]
    },
    {
      "cell_type": "code",
      "source": [
        "%%sql INSERT INTO Title\n",
        " (WORKER_REF_ID, WORKER_TITLE, AFFECTED_FROM) VALUES\n",
        "(001, 'Manager', '2016-02-20 00.00.00'),\n",
        "(002, 'Manager', '2016-06-11 00.00.00'),\n",
        "(008, 'Executive', '2016-06-11 00.00.00'),\n",
        "(005, 'Executive', '2016-06-11 00.00.00'),\n",
        "(004, 'ASS. Manager', '2016-06-11 00.00.00'),\n",
        "(007, 'Executive', '2016-06-11 00.00.00'),\n",
        "(006, 'Lead', '2016-06-11 00.00.00'),\n",
        "(003, 'Lead', '2016-06-11 00.00.00');"
      ],
      "metadata": {
        "colab": {
          "base_uri": "https://localhost:8080/"
        },
        "id": "lY_JWRY6ndIR",
        "outputId": "09c12ffa-eb69-45de-c1c2-8f5e661152f1"
      },
      "execution_count": 12,
      "outputs": [
        {
          "output_type": "stream",
          "name": "stdout",
          "text": [
            " * sqlite:///trial.db\n",
            "8 rows affected.\n"
          ]
        },
        {
          "output_type": "execute_result",
          "data": {
            "text/plain": [
              "[]"
            ]
          },
          "metadata": {},
          "execution_count": 12
        }
      ]
    },
    {
      "cell_type": "code",
      "source": [
        "%sql SELECT * FROM Worker"
      ],
      "metadata": {
        "colab": {
          "base_uri": "https://localhost:8080/",
          "height": 246
        },
        "id": "bX8luXEq0V2D",
        "outputId": "2a988719-d360-474d-b257-2e1dd666b2c4"
      },
      "execution_count": 13,
      "outputs": [
        {
          "output_type": "stream",
          "name": "stdout",
          "text": [
            " * sqlite:///trial.db\n",
            "Done.\n"
          ]
        },
        {
          "output_type": "execute_result",
          "data": {
            "text/plain": [
              "[(1, 'Jane', 'Nyamai', 100000, '12-02-24 09.00.00', 'HR'),\n",
              " (2, 'Victor', 'Korat', 80000, '11-04-23 09.00.00', 'Account'),\n",
              " (3, 'James', 'Tabuke', 300000, '13-05-20 09.00.00', 'Admin'),\n",
              " (4, 'Amara', 'tahid', 500000, '14-02-20 09.00.00', 'HR'),\n",
              " (5, 'John', 'Doe', 500000, '14-07-18 09.00.00', 'Admin'),\n",
              " (6, 'Vipul', 'Diwan', 200000, '14-06-11 09.00.00', 'Account'),\n",
              " (7, 'Satish', 'Kumar', 75000, '12-08-21 09.00.00', 'Account'),\n",
              " (8, 'Vivek', 'Bhati', 90000, '14-09-15 09.00.00', 'Admin')]"
            ],
            "text/html": [
              "<table>\n",
              "    <thead>\n",
              "        <tr>\n",
              "            <th>worker_ID</th>\n",
              "            <th>FIRST_NAME</th>\n",
              "            <th>LAST_NAME</th>\n",
              "            <th>SALARY</th>\n",
              "            <th>JOINING_DATE</th>\n",
              "            <th>DEPARTMENT</th>\n",
              "        </tr>\n",
              "    </thead>\n",
              "    <tbody>\n",
              "        <tr>\n",
              "            <td>1</td>\n",
              "            <td>Jane</td>\n",
              "            <td>Nyamai</td>\n",
              "            <td>100000</td>\n",
              "            <td>12-02-24 09.00.00</td>\n",
              "            <td>HR</td>\n",
              "        </tr>\n",
              "        <tr>\n",
              "            <td>2</td>\n",
              "            <td>Victor</td>\n",
              "            <td>Korat</td>\n",
              "            <td>80000</td>\n",
              "            <td>11-04-23 09.00.00</td>\n",
              "            <td>Account</td>\n",
              "        </tr>\n",
              "        <tr>\n",
              "            <td>3</td>\n",
              "            <td>James</td>\n",
              "            <td>Tabuke</td>\n",
              "            <td>300000</td>\n",
              "            <td>13-05-20 09.00.00</td>\n",
              "            <td>Admin</td>\n",
              "        </tr>\n",
              "        <tr>\n",
              "            <td>4</td>\n",
              "            <td>Amara</td>\n",
              "            <td>tahid</td>\n",
              "            <td>500000</td>\n",
              "            <td>14-02-20 09.00.00</td>\n",
              "            <td>HR</td>\n",
              "        </tr>\n",
              "        <tr>\n",
              "            <td>5</td>\n",
              "            <td>John</td>\n",
              "            <td>Doe</td>\n",
              "            <td>500000</td>\n",
              "            <td>14-07-18 09.00.00</td>\n",
              "            <td>Admin</td>\n",
              "        </tr>\n",
              "        <tr>\n",
              "            <td>6</td>\n",
              "            <td>Vipul</td>\n",
              "            <td>Diwan</td>\n",
              "            <td>200000</td>\n",
              "            <td>14-06-11 09.00.00</td>\n",
              "            <td>Account</td>\n",
              "        </tr>\n",
              "        <tr>\n",
              "            <td>7</td>\n",
              "            <td>Satish</td>\n",
              "            <td>Kumar</td>\n",
              "            <td>75000</td>\n",
              "            <td>12-08-21 09.00.00</td>\n",
              "            <td>Account</td>\n",
              "        </tr>\n",
              "        <tr>\n",
              "            <td>8</td>\n",
              "            <td>Vivek</td>\n",
              "            <td>Bhati</td>\n",
              "            <td>90000</td>\n",
              "            <td>14-09-15 09.00.00</td>\n",
              "            <td>Admin</td>\n",
              "        </tr>\n",
              "    </tbody>\n",
              "</table>"
            ]
          },
          "metadata": {},
          "execution_count": 13
        }
      ]
    },
    {
      "cell_type": "code",
      "source": [
        "%sql SELECT * FROM Bonus"
      ],
      "metadata": {
        "colab": {
          "base_uri": "https://localhost:8080/",
          "height": 182
        },
        "id": "_iDz21Kr0oKy",
        "outputId": "e20ae94e-af7a-4fb7-8c1f-b8b411561414"
      },
      "execution_count": 14,
      "outputs": [
        {
          "output_type": "stream",
          "name": "stdout",
          "text": [
            " * sqlite:///trial.db\n",
            "Done.\n"
          ]
        },
        {
          "output_type": "execute_result",
          "data": {
            "text/plain": [
              "[(1, 5000, '16-02-20'),\n",
              " (2, 3000, '16=06-11'),\n",
              " (3, 4000, '16-02-16'),\n",
              " (4, 4500, '16-02-20'),\n",
              " (5, 3500, '16-07-23')]"
            ],
            "text/html": [
              "<table>\n",
              "    <thead>\n",
              "        <tr>\n",
              "            <th>Worker_REF_ID</th>\n",
              "            <th>BONUS_AMOUNT</th>\n",
              "            <th>BONUS_DATE</th>\n",
              "        </tr>\n",
              "    </thead>\n",
              "    <tbody>\n",
              "        <tr>\n",
              "            <td>1</td>\n",
              "            <td>5000</td>\n",
              "            <td>16-02-20</td>\n",
              "        </tr>\n",
              "        <tr>\n",
              "            <td>2</td>\n",
              "            <td>3000</td>\n",
              "            <td>16=06-11</td>\n",
              "        </tr>\n",
              "        <tr>\n",
              "            <td>3</td>\n",
              "            <td>4000</td>\n",
              "            <td>16-02-16</td>\n",
              "        </tr>\n",
              "        <tr>\n",
              "            <td>4</td>\n",
              "            <td>4500</td>\n",
              "            <td>16-02-20</td>\n",
              "        </tr>\n",
              "        <tr>\n",
              "            <td>5</td>\n",
              "            <td>3500</td>\n",
              "            <td>16-07-23</td>\n",
              "        </tr>\n",
              "    </tbody>\n",
              "</table>"
            ]
          },
          "metadata": {},
          "execution_count": 14
        }
      ]
    },
    {
      "cell_type": "code",
      "source": [
        "%sql SELECT * FROM Title"
      ],
      "metadata": {
        "colab": {
          "base_uri": "https://localhost:8080/",
          "height": 246
        },
        "id": "HebhETGH0y18",
        "outputId": "bca4bcf9-1148-4715-8e8c-3b03aaca5244"
      },
      "execution_count": 15,
      "outputs": [
        {
          "output_type": "stream",
          "name": "stdout",
          "text": [
            " * sqlite:///trial.db\n",
            "Done.\n"
          ]
        },
        {
          "output_type": "execute_result",
          "data": {
            "text/plain": [
              "[(1, 'Manager', '2016-02-20 00.00.00'),\n",
              " (2, 'Manager', '2016-06-11 00.00.00'),\n",
              " (8, 'Executive', '2016-06-11 00.00.00'),\n",
              " (5, 'Executive', '2016-06-11 00.00.00'),\n",
              " (4, 'ASS. Manager', '2016-06-11 00.00.00'),\n",
              " (7, 'Executive', '2016-06-11 00.00.00'),\n",
              " (6, 'Lead', '2016-06-11 00.00.00'),\n",
              " (3, 'Lead', '2016-06-11 00.00.00')]"
            ],
            "text/html": [
              "<table>\n",
              "    <thead>\n",
              "        <tr>\n",
              "            <th>WORKER_REF_ID</th>\n",
              "            <th>WORKER_TITLE</th>\n",
              "            <th>AFFECTED_FROM</th>\n",
              "        </tr>\n",
              "    </thead>\n",
              "    <tbody>\n",
              "        <tr>\n",
              "            <td>1</td>\n",
              "            <td>Manager</td>\n",
              "            <td>2016-02-20 00.00.00</td>\n",
              "        </tr>\n",
              "        <tr>\n",
              "            <td>2</td>\n",
              "            <td>Manager</td>\n",
              "            <td>2016-06-11 00.00.00</td>\n",
              "        </tr>\n",
              "        <tr>\n",
              "            <td>8</td>\n",
              "            <td>Executive</td>\n",
              "            <td>2016-06-11 00.00.00</td>\n",
              "        </tr>\n",
              "        <tr>\n",
              "            <td>5</td>\n",
              "            <td>Executive</td>\n",
              "            <td>2016-06-11 00.00.00</td>\n",
              "        </tr>\n",
              "        <tr>\n",
              "            <td>4</td>\n",
              "            <td>ASS. Manager</td>\n",
              "            <td>2016-06-11 00.00.00</td>\n",
              "        </tr>\n",
              "        <tr>\n",
              "            <td>7</td>\n",
              "            <td>Executive</td>\n",
              "            <td>2016-06-11 00.00.00</td>\n",
              "        </tr>\n",
              "        <tr>\n",
              "            <td>6</td>\n",
              "            <td>Lead</td>\n",
              "            <td>2016-06-11 00.00.00</td>\n",
              "        </tr>\n",
              "        <tr>\n",
              "            <td>3</td>\n",
              "            <td>Lead</td>\n",
              "            <td>2016-06-11 00.00.00</td>\n",
              "        </tr>\n",
              "    </tbody>\n",
              "</table>"
            ]
          },
          "metadata": {},
          "execution_count": 15
        }
      ]
    },
    {
      "cell_type": "code",
      "source": [
        "%sql SELECT WORKER_REF_ID, WORKER_TITLE FROM Title"
      ],
      "metadata": {
        "colab": {
          "base_uri": "https://localhost:8080/",
          "height": 246
        },
        "id": "VHdetTy606QN",
        "outputId": "07a24317-1199-418f-a86a-d51f928ecc35"
      },
      "execution_count": 16,
      "outputs": [
        {
          "output_type": "stream",
          "name": "stdout",
          "text": [
            " * sqlite:///trial.db\n",
            "Done.\n"
          ]
        },
        {
          "output_type": "execute_result",
          "data": {
            "text/plain": [
              "[(1, 'Manager'),\n",
              " (2, 'Manager'),\n",
              " (8, 'Executive'),\n",
              " (5, 'Executive'),\n",
              " (4, 'ASS. Manager'),\n",
              " (7, 'Executive'),\n",
              " (6, 'Lead'),\n",
              " (3, 'Lead')]"
            ],
            "text/html": [
              "<table>\n",
              "    <thead>\n",
              "        <tr>\n",
              "            <th>WORKER_REF_ID</th>\n",
              "            <th>WORKER_TITLE</th>\n",
              "        </tr>\n",
              "    </thead>\n",
              "    <tbody>\n",
              "        <tr>\n",
              "            <td>1</td>\n",
              "            <td>Manager</td>\n",
              "        </tr>\n",
              "        <tr>\n",
              "            <td>2</td>\n",
              "            <td>Manager</td>\n",
              "        </tr>\n",
              "        <tr>\n",
              "            <td>8</td>\n",
              "            <td>Executive</td>\n",
              "        </tr>\n",
              "        <tr>\n",
              "            <td>5</td>\n",
              "            <td>Executive</td>\n",
              "        </tr>\n",
              "        <tr>\n",
              "            <td>4</td>\n",
              "            <td>ASS. Manager</td>\n",
              "        </tr>\n",
              "        <tr>\n",
              "            <td>7</td>\n",
              "            <td>Executive</td>\n",
              "        </tr>\n",
              "        <tr>\n",
              "            <td>6</td>\n",
              "            <td>Lead</td>\n",
              "        </tr>\n",
              "        <tr>\n",
              "            <td>3</td>\n",
              "            <td>Lead</td>\n",
              "        </tr>\n",
              "    </tbody>\n",
              "</table>"
            ]
          },
          "metadata": {},
          "execution_count": 16
        }
      ]
    },
    {
      "cell_type": "code",
      "source": [
        "%sql SELECT * FROM Title where WORKER_TITLE == 'Lead';"
      ],
      "metadata": {
        "colab": {
          "base_uri": "https://localhost:8080/",
          "height": 118
        },
        "id": "K-oWAvSw1R0l",
        "outputId": "9c30307f-6373-4cdf-8eb6-b58311e7f895"
      },
      "execution_count": 17,
      "outputs": [
        {
          "output_type": "stream",
          "name": "stdout",
          "text": [
            " * sqlite:///trial.db\n",
            "Done.\n"
          ]
        },
        {
          "output_type": "execute_result",
          "data": {
            "text/plain": [
              "[(6, 'Lead', '2016-06-11 00.00.00'), (3, 'Lead', '2016-06-11 00.00.00')]"
            ],
            "text/html": [
              "<table>\n",
              "    <thead>\n",
              "        <tr>\n",
              "            <th>WORKER_REF_ID</th>\n",
              "            <th>WORKER_TITLE</th>\n",
              "            <th>AFFECTED_FROM</th>\n",
              "        </tr>\n",
              "    </thead>\n",
              "    <tbody>\n",
              "        <tr>\n",
              "            <td>6</td>\n",
              "            <td>Lead</td>\n",
              "            <td>2016-06-11 00.00.00</td>\n",
              "        </tr>\n",
              "        <tr>\n",
              "            <td>3</td>\n",
              "            <td>Lead</td>\n",
              "            <td>2016-06-11 00.00.00</td>\n",
              "        </tr>\n",
              "    </tbody>\n",
              "</table>"
            ]
          },
          "metadata": {},
          "execution_count": 17
        }
      ]
    },
    {
      "cell_type": "code",
      "source": [
        "%sql SELECT * FROM Bonus ORDER BY BONUS_AMOUNT;"
      ],
      "metadata": {
        "colab": {
          "base_uri": "https://localhost:8080/",
          "height": 182
        },
        "id": "od7Y_dAG1rFh",
        "outputId": "10b57c74-a1d0-4749-cd80-bca02bb98731"
      },
      "execution_count": 18,
      "outputs": [
        {
          "output_type": "stream",
          "name": "stdout",
          "text": [
            " * sqlite:///trial.db\n",
            "Done.\n"
          ]
        },
        {
          "output_type": "execute_result",
          "data": {
            "text/plain": [
              "[(2, 3000, '16=06-11'),\n",
              " (5, 3500, '16-07-23'),\n",
              " (3, 4000, '16-02-16'),\n",
              " (4, 4500, '16-02-20'),\n",
              " (1, 5000, '16-02-20')]"
            ],
            "text/html": [
              "<table>\n",
              "    <thead>\n",
              "        <tr>\n",
              "            <th>Worker_REF_ID</th>\n",
              "            <th>BONUS_AMOUNT</th>\n",
              "            <th>BONUS_DATE</th>\n",
              "        </tr>\n",
              "    </thead>\n",
              "    <tbody>\n",
              "        <tr>\n",
              "            <td>2</td>\n",
              "            <td>3000</td>\n",
              "            <td>16=06-11</td>\n",
              "        </tr>\n",
              "        <tr>\n",
              "            <td>5</td>\n",
              "            <td>3500</td>\n",
              "            <td>16-07-23</td>\n",
              "        </tr>\n",
              "        <tr>\n",
              "            <td>3</td>\n",
              "            <td>4000</td>\n",
              "            <td>16-02-16</td>\n",
              "        </tr>\n",
              "        <tr>\n",
              "            <td>4</td>\n",
              "            <td>4500</td>\n",
              "            <td>16-02-20</td>\n",
              "        </tr>\n",
              "        <tr>\n",
              "            <td>1</td>\n",
              "            <td>5000</td>\n",
              "            <td>16-02-20</td>\n",
              "        </tr>\n",
              "    </tbody>\n",
              "</table>"
            ]
          },
          "metadata": {},
          "execution_count": 18
        }
      ]
    },
    {
      "cell_type": "code",
      "source": [
        "%sql SELECT * FROM Bonus ORDER BY BONUS_AMOUNT ASC;"
      ],
      "metadata": {
        "colab": {
          "base_uri": "https://localhost:8080/",
          "height": 182
        },
        "id": "OOA8F9Hl18HS",
        "outputId": "502e6f69-c3b1-41b7-fc8b-06a2fae8c4a3"
      },
      "execution_count": 19,
      "outputs": [
        {
          "output_type": "stream",
          "name": "stdout",
          "text": [
            " * sqlite:///trial.db\n",
            "Done.\n"
          ]
        },
        {
          "output_type": "execute_result",
          "data": {
            "text/plain": [
              "[(2, 3000, '16=06-11'),\n",
              " (5, 3500, '16-07-23'),\n",
              " (3, 4000, '16-02-16'),\n",
              " (4, 4500, '16-02-20'),\n",
              " (1, 5000, '16-02-20')]"
            ],
            "text/html": [
              "<table>\n",
              "    <thead>\n",
              "        <tr>\n",
              "            <th>Worker_REF_ID</th>\n",
              "            <th>BONUS_AMOUNT</th>\n",
              "            <th>BONUS_DATE</th>\n",
              "        </tr>\n",
              "    </thead>\n",
              "    <tbody>\n",
              "        <tr>\n",
              "            <td>2</td>\n",
              "            <td>3000</td>\n",
              "            <td>16=06-11</td>\n",
              "        </tr>\n",
              "        <tr>\n",
              "            <td>5</td>\n",
              "            <td>3500</td>\n",
              "            <td>16-07-23</td>\n",
              "        </tr>\n",
              "        <tr>\n",
              "            <td>3</td>\n",
              "            <td>4000</td>\n",
              "            <td>16-02-16</td>\n",
              "        </tr>\n",
              "        <tr>\n",
              "            <td>4</td>\n",
              "            <td>4500</td>\n",
              "            <td>16-02-20</td>\n",
              "        </tr>\n",
              "        <tr>\n",
              "            <td>1</td>\n",
              "            <td>5000</td>\n",
              "            <td>16-02-20</td>\n",
              "        </tr>\n",
              "    </tbody>\n",
              "</table>"
            ]
          },
          "metadata": {},
          "execution_count": 19
        }
      ]
    },
    {
      "cell_type": "code",
      "source": [
        "%sql SELECT * FROM Worker ORDER BY (JOINING_DATE) DESC;"
      ],
      "metadata": {
        "colab": {
          "base_uri": "https://localhost:8080/",
          "height": 246
        },
        "id": "kNk3cUd-2QIE",
        "outputId": "2a63ccf3-a62b-431d-dc55-6518caa232f7"
      },
      "execution_count": 20,
      "outputs": [
        {
          "output_type": "stream",
          "name": "stdout",
          "text": [
            " * sqlite:///trial.db\n",
            "Done.\n"
          ]
        },
        {
          "output_type": "execute_result",
          "data": {
            "text/plain": [
              "[(8, 'Vivek', 'Bhati', 90000, '14-09-15 09.00.00', 'Admin'),\n",
              " (5, 'John', 'Doe', 500000, '14-07-18 09.00.00', 'Admin'),\n",
              " (6, 'Vipul', 'Diwan', 200000, '14-06-11 09.00.00', 'Account'),\n",
              " (4, 'Amara', 'tahid', 500000, '14-02-20 09.00.00', 'HR'),\n",
              " (3, 'James', 'Tabuke', 300000, '13-05-20 09.00.00', 'Admin'),\n",
              " (7, 'Satish', 'Kumar', 75000, '12-08-21 09.00.00', 'Account'),\n",
              " (1, 'Jane', 'Nyamai', 100000, '12-02-24 09.00.00', 'HR'),\n",
              " (2, 'Victor', 'Korat', 80000, '11-04-23 09.00.00', 'Account')]"
            ],
            "text/html": [
              "<table>\n",
              "    <thead>\n",
              "        <tr>\n",
              "            <th>worker_ID</th>\n",
              "            <th>FIRST_NAME</th>\n",
              "            <th>LAST_NAME</th>\n",
              "            <th>SALARY</th>\n",
              "            <th>JOINING_DATE</th>\n",
              "            <th>DEPARTMENT</th>\n",
              "        </tr>\n",
              "    </thead>\n",
              "    <tbody>\n",
              "        <tr>\n",
              "            <td>8</td>\n",
              "            <td>Vivek</td>\n",
              "            <td>Bhati</td>\n",
              "            <td>90000</td>\n",
              "            <td>14-09-15 09.00.00</td>\n",
              "            <td>Admin</td>\n",
              "        </tr>\n",
              "        <tr>\n",
              "            <td>5</td>\n",
              "            <td>John</td>\n",
              "            <td>Doe</td>\n",
              "            <td>500000</td>\n",
              "            <td>14-07-18 09.00.00</td>\n",
              "            <td>Admin</td>\n",
              "        </tr>\n",
              "        <tr>\n",
              "            <td>6</td>\n",
              "            <td>Vipul</td>\n",
              "            <td>Diwan</td>\n",
              "            <td>200000</td>\n",
              "            <td>14-06-11 09.00.00</td>\n",
              "            <td>Account</td>\n",
              "        </tr>\n",
              "        <tr>\n",
              "            <td>4</td>\n",
              "            <td>Amara</td>\n",
              "            <td>tahid</td>\n",
              "            <td>500000</td>\n",
              "            <td>14-02-20 09.00.00</td>\n",
              "            <td>HR</td>\n",
              "        </tr>\n",
              "        <tr>\n",
              "            <td>3</td>\n",
              "            <td>James</td>\n",
              "            <td>Tabuke</td>\n",
              "            <td>300000</td>\n",
              "            <td>13-05-20 09.00.00</td>\n",
              "            <td>Admin</td>\n",
              "        </tr>\n",
              "        <tr>\n",
              "            <td>7</td>\n",
              "            <td>Satish</td>\n",
              "            <td>Kumar</td>\n",
              "            <td>75000</td>\n",
              "            <td>12-08-21 09.00.00</td>\n",
              "            <td>Account</td>\n",
              "        </tr>\n",
              "        <tr>\n",
              "            <td>1</td>\n",
              "            <td>Jane</td>\n",
              "            <td>Nyamai</td>\n",
              "            <td>100000</td>\n",
              "            <td>12-02-24 09.00.00</td>\n",
              "            <td>HR</td>\n",
              "        </tr>\n",
              "        <tr>\n",
              "            <td>2</td>\n",
              "            <td>Victor</td>\n",
              "            <td>Korat</td>\n",
              "            <td>80000</td>\n",
              "            <td>11-04-23 09.00.00</td>\n",
              "            <td>Account</td>\n",
              "        </tr>\n",
              "    </tbody>\n",
              "</table>"
            ]
          },
          "metadata": {},
          "execution_count": 20
        }
      ]
    },
    {
      "cell_type": "code",
      "source": [
        "%sql SELECT WORKER_TITLE, COUNT(*) AS \"Employees\" FROM Title GROUP BY WORKER_TITLE;"
      ],
      "metadata": {
        "colab": {
          "base_uri": "https://localhost:8080/",
          "height": 161
        },
        "id": "deYwTu-E2moG",
        "outputId": "358fc959-f95f-4637-aea7-8c54250edc3d"
      },
      "execution_count": 21,
      "outputs": [
        {
          "output_type": "stream",
          "name": "stdout",
          "text": [
            " * sqlite:///trial.db\n",
            "Done.\n"
          ]
        },
        {
          "output_type": "execute_result",
          "data": {
            "text/plain": [
              "[('ASS. Manager', 1), ('Executive', 3), ('Lead', 2), ('Manager', 2)]"
            ],
            "text/html": [
              "<table>\n",
              "    <thead>\n",
              "        <tr>\n",
              "            <th>WORKER_TITLE</th>\n",
              "            <th>Employees</th>\n",
              "        </tr>\n",
              "    </thead>\n",
              "    <tbody>\n",
              "        <tr>\n",
              "            <td>ASS. Manager</td>\n",
              "            <td>1</td>\n",
              "        </tr>\n",
              "        <tr>\n",
              "            <td>Executive</td>\n",
              "            <td>3</td>\n",
              "        </tr>\n",
              "        <tr>\n",
              "            <td>Lead</td>\n",
              "            <td>2</td>\n",
              "        </tr>\n",
              "        <tr>\n",
              "            <td>Manager</td>\n",
              "            <td>2</td>\n",
              "        </tr>\n",
              "    </tbody>\n",
              "</table>"
            ]
          },
          "metadata": {},
          "execution_count": 21
        }
      ]
    },
    {
      "cell_type": "code",
      "source": [
        "%sql SELECT WORKER_REF_ID, SUM(BONUS_AMOUNT) FROM Bonus GROUP BY WORKER_REF_ID;"
      ],
      "metadata": {
        "colab": {
          "base_uri": "https://localhost:8080/",
          "height": 182
        },
        "id": "RcPn5EuG3YNM",
        "outputId": "1c12da4e-6a04-4ddb-8b0d-7fb9a232d849"
      },
      "execution_count": 22,
      "outputs": [
        {
          "output_type": "stream",
          "name": "stdout",
          "text": [
            " * sqlite:///trial.db\n",
            "Done.\n"
          ]
        },
        {
          "output_type": "execute_result",
          "data": {
            "text/plain": [
              "[(1, 5000), (2, 3000), (3, 4000), (4, 4500), (5, 3500)]"
            ],
            "text/html": [
              "<table>\n",
              "    <thead>\n",
              "        <tr>\n",
              "            <th>Worker_REF_ID</th>\n",
              "            <th>SUM(BONUS_AMOUNT)</th>\n",
              "        </tr>\n",
              "    </thead>\n",
              "    <tbody>\n",
              "        <tr>\n",
              "            <td>1</td>\n",
              "            <td>5000</td>\n",
              "        </tr>\n",
              "        <tr>\n",
              "            <td>2</td>\n",
              "            <td>3000</td>\n",
              "        </tr>\n",
              "        <tr>\n",
              "            <td>3</td>\n",
              "            <td>4000</td>\n",
              "        </tr>\n",
              "        <tr>\n",
              "            <td>4</td>\n",
              "            <td>4500</td>\n",
              "        </tr>\n",
              "        <tr>\n",
              "            <td>5</td>\n",
              "            <td>3500</td>\n",
              "        </tr>\n",
              "    </tbody>\n",
              "</table>"
            ]
          },
          "metadata": {},
          "execution_count": 22
        }
      ]
    },
    {
      "cell_type": "code",
      "source": [
        "%sql SELECT MIN(BONUS_AMOUNT) FROM Bonus;"
      ],
      "metadata": {
        "colab": {
          "base_uri": "https://localhost:8080/",
          "height": 96
        },
        "id": "ny8hyokx3ubn",
        "outputId": "3e3de727-0f28-4801-b86b-a1f56c849e7f"
      },
      "execution_count": 23,
      "outputs": [
        {
          "output_type": "stream",
          "name": "stdout",
          "text": [
            " * sqlite:///trial.db\n",
            "Done.\n"
          ]
        },
        {
          "output_type": "execute_result",
          "data": {
            "text/plain": [
              "[(3000,)]"
            ],
            "text/html": [
              "<table>\n",
              "    <thead>\n",
              "        <tr>\n",
              "            <th>MIN(BONUS_AMOUNT)</th>\n",
              "        </tr>\n",
              "    </thead>\n",
              "    <tbody>\n",
              "        <tr>\n",
              "            <td>3000</td>\n",
              "        </tr>\n",
              "    </tbody>\n",
              "</table>"
            ]
          },
          "metadata": {},
          "execution_count": 23
        }
      ]
    },
    {
      "cell_type": "code",
      "source": [
        "%sql SELECT MAX(BONUS_AMOUNT) FROM Bonus"
      ],
      "metadata": {
        "colab": {
          "base_uri": "https://localhost:8080/",
          "height": 96
        },
        "id": "EgOMTSa-4IbG",
        "outputId": "7275fb7c-f041-40bb-d033-3417bba137b4"
      },
      "execution_count": 24,
      "outputs": [
        {
          "output_type": "stream",
          "name": "stdout",
          "text": [
            " * sqlite:///trial.db\n",
            "Done.\n"
          ]
        },
        {
          "output_type": "execute_result",
          "data": {
            "text/plain": [
              "[(5000,)]"
            ],
            "text/html": [
              "<table>\n",
              "    <thead>\n",
              "        <tr>\n",
              "            <th>MAX(BONUS_AMOUNT)</th>\n",
              "        </tr>\n",
              "    </thead>\n",
              "    <tbody>\n",
              "        <tr>\n",
              "            <td>5000</td>\n",
              "        </tr>\n",
              "    </tbody>\n",
              "</table>"
            ]
          },
          "metadata": {},
          "execution_count": 24
        }
      ]
    },
    {
      "cell_type": "code",
      "source": [
        "%sql SELECT * FROM Bonus"
      ],
      "metadata": {
        "colab": {
          "base_uri": "https://localhost:8080/",
          "height": 182
        },
        "id": "6z-87AcR4Wad",
        "outputId": "d17d778c-b024-4942-e406-d45ae4de51be"
      },
      "execution_count": 25,
      "outputs": [
        {
          "output_type": "stream",
          "name": "stdout",
          "text": [
            " * sqlite:///trial.db\n",
            "Done.\n"
          ]
        },
        {
          "output_type": "execute_result",
          "data": {
            "text/plain": [
              "[(1, 5000, '16-02-20'),\n",
              " (2, 3000, '16=06-11'),\n",
              " (3, 4000, '16-02-16'),\n",
              " (4, 4500, '16-02-20'),\n",
              " (5, 3500, '16-07-23')]"
            ],
            "text/html": [
              "<table>\n",
              "    <thead>\n",
              "        <tr>\n",
              "            <th>Worker_REF_ID</th>\n",
              "            <th>BONUS_AMOUNT</th>\n",
              "            <th>BONUS_DATE</th>\n",
              "        </tr>\n",
              "    </thead>\n",
              "    <tbody>\n",
              "        <tr>\n",
              "            <td>1</td>\n",
              "            <td>5000</td>\n",
              "            <td>16-02-20</td>\n",
              "        </tr>\n",
              "        <tr>\n",
              "            <td>2</td>\n",
              "            <td>3000</td>\n",
              "            <td>16=06-11</td>\n",
              "        </tr>\n",
              "        <tr>\n",
              "            <td>3</td>\n",
              "            <td>4000</td>\n",
              "            <td>16-02-16</td>\n",
              "        </tr>\n",
              "        <tr>\n",
              "            <td>4</td>\n",
              "            <td>4500</td>\n",
              "            <td>16-02-20</td>\n",
              "        </tr>\n",
              "        <tr>\n",
              "            <td>5</td>\n",
              "            <td>3500</td>\n",
              "            <td>16-07-23</td>\n",
              "        </tr>\n",
              "    </tbody>\n",
              "</table>"
            ]
          },
          "metadata": {},
          "execution_count": 25
        }
      ]
    },
    {
      "cell_type": "code",
      "source": [
        "%sql SELECT * FROM Title"
      ],
      "metadata": {
        "colab": {
          "base_uri": "https://localhost:8080/",
          "height": 246
        },
        "id": "2pMqiECb4ooQ",
        "outputId": "561e809f-ee9d-4438-b2f7-bb00e9425541"
      },
      "execution_count": 26,
      "outputs": [
        {
          "output_type": "stream",
          "name": "stdout",
          "text": [
            " * sqlite:///trial.db\n",
            "Done.\n"
          ]
        },
        {
          "output_type": "execute_result",
          "data": {
            "text/plain": [
              "[(1, 'Manager', '2016-02-20 00.00.00'),\n",
              " (2, 'Manager', '2016-06-11 00.00.00'),\n",
              " (8, 'Executive', '2016-06-11 00.00.00'),\n",
              " (5, 'Executive', '2016-06-11 00.00.00'),\n",
              " (4, 'ASS. Manager', '2016-06-11 00.00.00'),\n",
              " (7, 'Executive', '2016-06-11 00.00.00'),\n",
              " (6, 'Lead', '2016-06-11 00.00.00'),\n",
              " (3, 'Lead', '2016-06-11 00.00.00')]"
            ],
            "text/html": [
              "<table>\n",
              "    <thead>\n",
              "        <tr>\n",
              "            <th>WORKER_REF_ID</th>\n",
              "            <th>WORKER_TITLE</th>\n",
              "            <th>AFFECTED_FROM</th>\n",
              "        </tr>\n",
              "    </thead>\n",
              "    <tbody>\n",
              "        <tr>\n",
              "            <td>1</td>\n",
              "            <td>Manager</td>\n",
              "            <td>2016-02-20 00.00.00</td>\n",
              "        </tr>\n",
              "        <tr>\n",
              "            <td>2</td>\n",
              "            <td>Manager</td>\n",
              "            <td>2016-06-11 00.00.00</td>\n",
              "        </tr>\n",
              "        <tr>\n",
              "            <td>8</td>\n",
              "            <td>Executive</td>\n",
              "            <td>2016-06-11 00.00.00</td>\n",
              "        </tr>\n",
              "        <tr>\n",
              "            <td>5</td>\n",
              "            <td>Executive</td>\n",
              "            <td>2016-06-11 00.00.00</td>\n",
              "        </tr>\n",
              "        <tr>\n",
              "            <td>4</td>\n",
              "            <td>ASS. Manager</td>\n",
              "            <td>2016-06-11 00.00.00</td>\n",
              "        </tr>\n",
              "        <tr>\n",
              "            <td>7</td>\n",
              "            <td>Executive</td>\n",
              "            <td>2016-06-11 00.00.00</td>\n",
              "        </tr>\n",
              "        <tr>\n",
              "            <td>6</td>\n",
              "            <td>Lead</td>\n",
              "            <td>2016-06-11 00.00.00</td>\n",
              "        </tr>\n",
              "        <tr>\n",
              "            <td>3</td>\n",
              "            <td>Lead</td>\n",
              "            <td>2016-06-11 00.00.00</td>\n",
              "        </tr>\n",
              "    </tbody>\n",
              "</table>"
            ]
          },
          "metadata": {},
          "execution_count": 26
        }
      ]
    },
    {
      "cell_type": "code",
      "source": [
        "%sql SELECT * FROM Worker"
      ],
      "metadata": {
        "colab": {
          "base_uri": "https://localhost:8080/",
          "height": 246
        },
        "id": "ftEkGAoq4vJ1",
        "outputId": "4d7e48a9-4925-45a2-f809-23561e04c39e"
      },
      "execution_count": 27,
      "outputs": [
        {
          "output_type": "stream",
          "name": "stdout",
          "text": [
            " * sqlite:///trial.db\n",
            "Done.\n"
          ]
        },
        {
          "output_type": "execute_result",
          "data": {
            "text/plain": [
              "[(1, 'Jane', 'Nyamai', 100000, '12-02-24 09.00.00', 'HR'),\n",
              " (2, 'Victor', 'Korat', 80000, '11-04-23 09.00.00', 'Account'),\n",
              " (3, 'James', 'Tabuke', 300000, '13-05-20 09.00.00', 'Admin'),\n",
              " (4, 'Amara', 'tahid', 500000, '14-02-20 09.00.00', 'HR'),\n",
              " (5, 'John', 'Doe', 500000, '14-07-18 09.00.00', 'Admin'),\n",
              " (6, 'Vipul', 'Diwan', 200000, '14-06-11 09.00.00', 'Account'),\n",
              " (7, 'Satish', 'Kumar', 75000, '12-08-21 09.00.00', 'Account'),\n",
              " (8, 'Vivek', 'Bhati', 90000, '14-09-15 09.00.00', 'Admin')]"
            ],
            "text/html": [
              "<table>\n",
              "    <thead>\n",
              "        <tr>\n",
              "            <th>worker_ID</th>\n",
              "            <th>FIRST_NAME</th>\n",
              "            <th>LAST_NAME</th>\n",
              "            <th>SALARY</th>\n",
              "            <th>JOINING_DATE</th>\n",
              "            <th>DEPARTMENT</th>\n",
              "        </tr>\n",
              "    </thead>\n",
              "    <tbody>\n",
              "        <tr>\n",
              "            <td>1</td>\n",
              "            <td>Jane</td>\n",
              "            <td>Nyamai</td>\n",
              "            <td>100000</td>\n",
              "            <td>12-02-24 09.00.00</td>\n",
              "            <td>HR</td>\n",
              "        </tr>\n",
              "        <tr>\n",
              "            <td>2</td>\n",
              "            <td>Victor</td>\n",
              "            <td>Korat</td>\n",
              "            <td>80000</td>\n",
              "            <td>11-04-23 09.00.00</td>\n",
              "            <td>Account</td>\n",
              "        </tr>\n",
              "        <tr>\n",
              "            <td>3</td>\n",
              "            <td>James</td>\n",
              "            <td>Tabuke</td>\n",
              "            <td>300000</td>\n",
              "            <td>13-05-20 09.00.00</td>\n",
              "            <td>Admin</td>\n",
              "        </tr>\n",
              "        <tr>\n",
              "            <td>4</td>\n",
              "            <td>Amara</td>\n",
              "            <td>tahid</td>\n",
              "            <td>500000</td>\n",
              "            <td>14-02-20 09.00.00</td>\n",
              "            <td>HR</td>\n",
              "        </tr>\n",
              "        <tr>\n",
              "            <td>5</td>\n",
              "            <td>John</td>\n",
              "            <td>Doe</td>\n",
              "            <td>500000</td>\n",
              "            <td>14-07-18 09.00.00</td>\n",
              "            <td>Admin</td>\n",
              "        </tr>\n",
              "        <tr>\n",
              "            <td>6</td>\n",
              "            <td>Vipul</td>\n",
              "            <td>Diwan</td>\n",
              "            <td>200000</td>\n",
              "            <td>14-06-11 09.00.00</td>\n",
              "            <td>Account</td>\n",
              "        </tr>\n",
              "        <tr>\n",
              "            <td>7</td>\n",
              "            <td>Satish</td>\n",
              "            <td>Kumar</td>\n",
              "            <td>75000</td>\n",
              "            <td>12-08-21 09.00.00</td>\n",
              "            <td>Account</td>\n",
              "        </tr>\n",
              "        <tr>\n",
              "            <td>8</td>\n",
              "            <td>Vivek</td>\n",
              "            <td>Bhati</td>\n",
              "            <td>90000</td>\n",
              "            <td>14-09-15 09.00.00</td>\n",
              "            <td>Admin</td>\n",
              "        </tr>\n",
              "    </tbody>\n",
              "</table>"
            ]
          },
          "metadata": {},
          "execution_count": 27
        }
      ]
    },
    {
      "cell_type": "code",
      "source": [
        "%%sql SELECT *\n",
        "FROM worker\n",
        "LEFT JOIN Bonus ON Worker.WORKER_ID = Bonus.WORKER_REF_ID;"
      ],
      "metadata": {
        "colab": {
          "base_uri": "https://localhost:8080/",
          "height": 246
        },
        "id": "trEUP27c41vr",
        "outputId": "b97d7bd2-8cf8-42b6-8377-ddc542224744"
      },
      "execution_count": 30,
      "outputs": [
        {
          "output_type": "stream",
          "name": "stdout",
          "text": [
            " * sqlite:///trial.db\n",
            "Done.\n"
          ]
        },
        {
          "output_type": "execute_result",
          "data": {
            "text/plain": [
              "[(1, 'Jane', 'Nyamai', 100000, '12-02-24 09.00.00', 'HR', 1, 5000, '16-02-20'),\n",
              " (2, 'Victor', 'Korat', 80000, '11-04-23 09.00.00', 'Account', 2, 3000, '16=06-11'),\n",
              " (3, 'James', 'Tabuke', 300000, '13-05-20 09.00.00', 'Admin', 3, 4000, '16-02-16'),\n",
              " (4, 'Amara', 'tahid', 500000, '14-02-20 09.00.00', 'HR', 4, 4500, '16-02-20'),\n",
              " (5, 'John', 'Doe', 500000, '14-07-18 09.00.00', 'Admin', 5, 3500, '16-07-23'),\n",
              " (6, 'Vipul', 'Diwan', 200000, '14-06-11 09.00.00', 'Account', None, None, None),\n",
              " (7, 'Satish', 'Kumar', 75000, '12-08-21 09.00.00', 'Account', None, None, None),\n",
              " (8, 'Vivek', 'Bhati', 90000, '14-09-15 09.00.00', 'Admin', None, None, None)]"
            ],
            "text/html": [
              "<table>\n",
              "    <thead>\n",
              "        <tr>\n",
              "            <th>worker_ID</th>\n",
              "            <th>FIRST_NAME</th>\n",
              "            <th>LAST_NAME</th>\n",
              "            <th>SALARY</th>\n",
              "            <th>JOINING_DATE</th>\n",
              "            <th>DEPARTMENT</th>\n",
              "            <th>Worker_REF_ID</th>\n",
              "            <th>BONUS_AMOUNT</th>\n",
              "            <th>BONUS_DATE</th>\n",
              "        </tr>\n",
              "    </thead>\n",
              "    <tbody>\n",
              "        <tr>\n",
              "            <td>1</td>\n",
              "            <td>Jane</td>\n",
              "            <td>Nyamai</td>\n",
              "            <td>100000</td>\n",
              "            <td>12-02-24 09.00.00</td>\n",
              "            <td>HR</td>\n",
              "            <td>1</td>\n",
              "            <td>5000</td>\n",
              "            <td>16-02-20</td>\n",
              "        </tr>\n",
              "        <tr>\n",
              "            <td>2</td>\n",
              "            <td>Victor</td>\n",
              "            <td>Korat</td>\n",
              "            <td>80000</td>\n",
              "            <td>11-04-23 09.00.00</td>\n",
              "            <td>Account</td>\n",
              "            <td>2</td>\n",
              "            <td>3000</td>\n",
              "            <td>16=06-11</td>\n",
              "        </tr>\n",
              "        <tr>\n",
              "            <td>3</td>\n",
              "            <td>James</td>\n",
              "            <td>Tabuke</td>\n",
              "            <td>300000</td>\n",
              "            <td>13-05-20 09.00.00</td>\n",
              "            <td>Admin</td>\n",
              "            <td>3</td>\n",
              "            <td>4000</td>\n",
              "            <td>16-02-16</td>\n",
              "        </tr>\n",
              "        <tr>\n",
              "            <td>4</td>\n",
              "            <td>Amara</td>\n",
              "            <td>tahid</td>\n",
              "            <td>500000</td>\n",
              "            <td>14-02-20 09.00.00</td>\n",
              "            <td>HR</td>\n",
              "            <td>4</td>\n",
              "            <td>4500</td>\n",
              "            <td>16-02-20</td>\n",
              "        </tr>\n",
              "        <tr>\n",
              "            <td>5</td>\n",
              "            <td>John</td>\n",
              "            <td>Doe</td>\n",
              "            <td>500000</td>\n",
              "            <td>14-07-18 09.00.00</td>\n",
              "            <td>Admin</td>\n",
              "            <td>5</td>\n",
              "            <td>3500</td>\n",
              "            <td>16-07-23</td>\n",
              "        </tr>\n",
              "        <tr>\n",
              "            <td>6</td>\n",
              "            <td>Vipul</td>\n",
              "            <td>Diwan</td>\n",
              "            <td>200000</td>\n",
              "            <td>14-06-11 09.00.00</td>\n",
              "            <td>Account</td>\n",
              "            <td>None</td>\n",
              "            <td>None</td>\n",
              "            <td>None</td>\n",
              "        </tr>\n",
              "        <tr>\n",
              "            <td>7</td>\n",
              "            <td>Satish</td>\n",
              "            <td>Kumar</td>\n",
              "            <td>75000</td>\n",
              "            <td>12-08-21 09.00.00</td>\n",
              "            <td>Account</td>\n",
              "            <td>None</td>\n",
              "            <td>None</td>\n",
              "            <td>None</td>\n",
              "        </tr>\n",
              "        <tr>\n",
              "            <td>8</td>\n",
              "            <td>Vivek</td>\n",
              "            <td>Bhati</td>\n",
              "            <td>90000</td>\n",
              "            <td>14-09-15 09.00.00</td>\n",
              "            <td>Admin</td>\n",
              "            <td>None</td>\n",
              "            <td>None</td>\n",
              "            <td>None</td>\n",
              "        </tr>\n",
              "    </tbody>\n",
              "</table>"
            ]
          },
          "metadata": {},
          "execution_count": 30
        }
      ]
    },
    {
      "cell_type": "code",
      "source": [
        "%%sql SELECT *\n",
        "FROM Bonus\n",
        "LEFT JOIN Worker ON Bonus.WORKER_REF_ID = Worker.WORKER_ID"
      ],
      "metadata": {
        "colab": {
          "base_uri": "https://localhost:8080/",
          "height": 182
        },
        "id": "knMO4QDw5sn-",
        "outputId": "dc7f74b4-a569-4e18-d1d0-0f4dea0170b9"
      },
      "execution_count": 31,
      "outputs": [
        {
          "output_type": "stream",
          "name": "stdout",
          "text": [
            " * sqlite:///trial.db\n",
            "Done.\n"
          ]
        },
        {
          "output_type": "execute_result",
          "data": {
            "text/plain": [
              "[(1, 5000, '16-02-20', 1, 'Jane', 'Nyamai', 100000, '12-02-24 09.00.00', 'HR'),\n",
              " (2, 3000, '16=06-11', 2, 'Victor', 'Korat', 80000, '11-04-23 09.00.00', 'Account'),\n",
              " (3, 4000, '16-02-16', 3, 'James', 'Tabuke', 300000, '13-05-20 09.00.00', 'Admin'),\n",
              " (4, 4500, '16-02-20', 4, 'Amara', 'tahid', 500000, '14-02-20 09.00.00', 'HR'),\n",
              " (5, 3500, '16-07-23', 5, 'John', 'Doe', 500000, '14-07-18 09.00.00', 'Admin')]"
            ],
            "text/html": [
              "<table>\n",
              "    <thead>\n",
              "        <tr>\n",
              "            <th>Worker_REF_ID</th>\n",
              "            <th>BONUS_AMOUNT</th>\n",
              "            <th>BONUS_DATE</th>\n",
              "            <th>worker_ID</th>\n",
              "            <th>FIRST_NAME</th>\n",
              "            <th>LAST_NAME</th>\n",
              "            <th>SALARY</th>\n",
              "            <th>JOINING_DATE</th>\n",
              "            <th>DEPARTMENT</th>\n",
              "        </tr>\n",
              "    </thead>\n",
              "    <tbody>\n",
              "        <tr>\n",
              "            <td>1</td>\n",
              "            <td>5000</td>\n",
              "            <td>16-02-20</td>\n",
              "            <td>1</td>\n",
              "            <td>Jane</td>\n",
              "            <td>Nyamai</td>\n",
              "            <td>100000</td>\n",
              "            <td>12-02-24 09.00.00</td>\n",
              "            <td>HR</td>\n",
              "        </tr>\n",
              "        <tr>\n",
              "            <td>2</td>\n",
              "            <td>3000</td>\n",
              "            <td>16=06-11</td>\n",
              "            <td>2</td>\n",
              "            <td>Victor</td>\n",
              "            <td>Korat</td>\n",
              "            <td>80000</td>\n",
              "            <td>11-04-23 09.00.00</td>\n",
              "            <td>Account</td>\n",
              "        </tr>\n",
              "        <tr>\n",
              "            <td>3</td>\n",
              "            <td>4000</td>\n",
              "            <td>16-02-16</td>\n",
              "            <td>3</td>\n",
              "            <td>James</td>\n",
              "            <td>Tabuke</td>\n",
              "            <td>300000</td>\n",
              "            <td>13-05-20 09.00.00</td>\n",
              "            <td>Admin</td>\n",
              "        </tr>\n",
              "        <tr>\n",
              "            <td>4</td>\n",
              "            <td>4500</td>\n",
              "            <td>16-02-20</td>\n",
              "            <td>4</td>\n",
              "            <td>Amara</td>\n",
              "            <td>tahid</td>\n",
              "            <td>500000</td>\n",
              "            <td>14-02-20 09.00.00</td>\n",
              "            <td>HR</td>\n",
              "        </tr>\n",
              "        <tr>\n",
              "            <td>5</td>\n",
              "            <td>3500</td>\n",
              "            <td>16-07-23</td>\n",
              "            <td>5</td>\n",
              "            <td>John</td>\n",
              "            <td>Doe</td>\n",
              "            <td>500000</td>\n",
              "            <td>14-07-18 09.00.00</td>\n",
              "            <td>Admin</td>\n",
              "        </tr>\n",
              "    </tbody>\n",
              "</table>"
            ]
          },
          "metadata": {},
          "execution_count": 31
        }
      ]
    },
    {
      "cell_type": "code",
      "source": [
        "%%sql\n",
        "SELECT *\n",
        "FROM worker\n",
        "RIGHT JOIN Bonus ON Worker.WORKER_ID = Bonus.WORKER_REF_ID;"
      ],
      "metadata": {
        "colab": {
          "base_uri": "https://localhost:8080/"
        },
        "id": "aCezjOW06UTM",
        "outputId": "fd81e882-716e-4dc9-d1dc-ad42942bf435"
      },
      "execution_count": 32,
      "outputs": [
        {
          "output_type": "stream",
          "name": "stdout",
          "text": [
            " * sqlite:///trial.db\n",
            "(sqlite3.OperationalError) RIGHT and FULL OUTER JOINs are not currently supported\n",
            "[SQL: SELECT * \n",
            "FROM worker\n",
            "RIGHT JOIN Bonus ON Worker.WORKER_ID = Bonus.WORKER_REF_ID;]\n",
            "(Background on this error at: https://sqlalche.me/e/20/e3q8)\n"
          ]
        }
      ]
    },
    {
      "cell_type": "code",
      "source": [
        "%%sql SELECT *\n",
        "FROM Worker\n",
        "INNER JOIN Bonus ON Worker.WORKER_ID = Bonus.WORKER_REF_ID;"
      ],
      "metadata": {
        "colab": {
          "base_uri": "https://localhost:8080/",
          "height": 182
        },
        "id": "2r1kPr_V64u6",
        "outputId": "56f7979c-245f-4552-9df7-b7ec31695b89"
      },
      "execution_count": 33,
      "outputs": [
        {
          "output_type": "stream",
          "name": "stdout",
          "text": [
            " * sqlite:///trial.db\n",
            "Done.\n"
          ]
        },
        {
          "output_type": "execute_result",
          "data": {
            "text/plain": [
              "[(1, 'Jane', 'Nyamai', 100000, '12-02-24 09.00.00', 'HR', 1, 5000, '16-02-20'),\n",
              " (2, 'Victor', 'Korat', 80000, '11-04-23 09.00.00', 'Account', 2, 3000, '16=06-11'),\n",
              " (3, 'James', 'Tabuke', 300000, '13-05-20 09.00.00', 'Admin', 3, 4000, '16-02-16'),\n",
              " (4, 'Amara', 'tahid', 500000, '14-02-20 09.00.00', 'HR', 4, 4500, '16-02-20'),\n",
              " (5, 'John', 'Doe', 500000, '14-07-18 09.00.00', 'Admin', 5, 3500, '16-07-23')]"
            ],
            "text/html": [
              "<table>\n",
              "    <thead>\n",
              "        <tr>\n",
              "            <th>worker_ID</th>\n",
              "            <th>FIRST_NAME</th>\n",
              "            <th>LAST_NAME</th>\n",
              "            <th>SALARY</th>\n",
              "            <th>JOINING_DATE</th>\n",
              "            <th>DEPARTMENT</th>\n",
              "            <th>Worker_REF_ID</th>\n",
              "            <th>BONUS_AMOUNT</th>\n",
              "            <th>BONUS_DATE</th>\n",
              "        </tr>\n",
              "    </thead>\n",
              "    <tbody>\n",
              "        <tr>\n",
              "            <td>1</td>\n",
              "            <td>Jane</td>\n",
              "            <td>Nyamai</td>\n",
              "            <td>100000</td>\n",
              "            <td>12-02-24 09.00.00</td>\n",
              "            <td>HR</td>\n",
              "            <td>1</td>\n",
              "            <td>5000</td>\n",
              "            <td>16-02-20</td>\n",
              "        </tr>\n",
              "        <tr>\n",
              "            <td>2</td>\n",
              "            <td>Victor</td>\n",
              "            <td>Korat</td>\n",
              "            <td>80000</td>\n",
              "            <td>11-04-23 09.00.00</td>\n",
              "            <td>Account</td>\n",
              "            <td>2</td>\n",
              "            <td>3000</td>\n",
              "            <td>16=06-11</td>\n",
              "        </tr>\n",
              "        <tr>\n",
              "            <td>3</td>\n",
              "            <td>James</td>\n",
              "            <td>Tabuke</td>\n",
              "            <td>300000</td>\n",
              "            <td>13-05-20 09.00.00</td>\n",
              "            <td>Admin</td>\n",
              "            <td>3</td>\n",
              "            <td>4000</td>\n",
              "            <td>16-02-16</td>\n",
              "        </tr>\n",
              "        <tr>\n",
              "            <td>4</td>\n",
              "            <td>Amara</td>\n",
              "            <td>tahid</td>\n",
              "            <td>500000</td>\n",
              "            <td>14-02-20 09.00.00</td>\n",
              "            <td>HR</td>\n",
              "            <td>4</td>\n",
              "            <td>4500</td>\n",
              "            <td>16-02-20</td>\n",
              "        </tr>\n",
              "        <tr>\n",
              "            <td>5</td>\n",
              "            <td>John</td>\n",
              "            <td>Doe</td>\n",
              "            <td>500000</td>\n",
              "            <td>14-07-18 09.00.00</td>\n",
              "            <td>Admin</td>\n",
              "            <td>5</td>\n",
              "            <td>3500</td>\n",
              "            <td>16-07-23</td>\n",
              "        </tr>\n",
              "    </tbody>\n",
              "</table>"
            ]
          },
          "metadata": {},
          "execution_count": 33
        }
      ]
    }
  ]
}